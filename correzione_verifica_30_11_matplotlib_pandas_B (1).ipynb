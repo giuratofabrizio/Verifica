{
  "nbformat": 4,
  "nbformat_minor": 0,
  "metadata": {
    "colab": {
      "name": "correzzione verifica 30/11 matplotlib/pandas  B.ipynb",
      "provenance": [],
      "collapsed_sections": []
    },
    "kernelspec": {
      "name": "python3",
      "display_name": "Python 3"
    },
    "language_info": {
      "name": "python"
    }
  },
  "cells": [
    {
      "cell_type": "code",
      "metadata": {
        "id": "gFRdiDGY4dM3"
      },
      "source": [
        "import pandas as pd  \n",
        "import matplotlib.pyplot as plt"
      ],
      "execution_count": null,
      "outputs": []
    },
    {
      "cell_type": "code",
      "metadata": {
        "colab": {
          "base_uri": "https://localhost:8080/",
          "height": 424
        },
        "id": "VfEL54Cr4I_e",
        "outputId": "ce645bc4-076f-45f6-ddf7-3c46f6ab2b12"
      },
      "source": [
        "df = pd.read_csv('https://raw.githubusercontent.com/italia/covid19-opendata-vaccini/master/dati/punti-somministrazione-latest.csv')\n",
        "df"
      ],
      "execution_count": null,
      "outputs": [
        {
          "output_type": "execute_result",
          "data": {
            "text/html": [
              "<div>\n",
              "<style scoped>\n",
              "    .dataframe tbody tr th:only-of-type {\n",
              "        vertical-align: middle;\n",
              "    }\n",
              "\n",
              "    .dataframe tbody tr th {\n",
              "        vertical-align: top;\n",
              "    }\n",
              "\n",
              "    .dataframe thead th {\n",
              "        text-align: right;\n",
              "    }\n",
              "</style>\n",
              "<table border=\"1\" class=\"dataframe\">\n",
              "  <thead>\n",
              "    <tr style=\"text-align: right;\">\n",
              "      <th></th>\n",
              "      <th>area</th>\n",
              "      <th>provincia</th>\n",
              "      <th>comune</th>\n",
              "      <th>presidio_ospedaliero</th>\n",
              "      <th>codice_NUTS1</th>\n",
              "      <th>codice_NUTS2</th>\n",
              "      <th>codice_regione_ISTAT</th>\n",
              "      <th>nome_area</th>\n",
              "    </tr>\n",
              "  </thead>\n",
              "  <tbody>\n",
              "    <tr>\n",
              "      <th>0</th>\n",
              "      <td>ABR</td>\n",
              "      <td>CHIETI</td>\n",
              "      <td>CHIETI</td>\n",
              "      <td>PRESIDIO OSPEDALIERO SS ANNUNZIATA</td>\n",
              "      <td>ITF</td>\n",
              "      <td>ITF1</td>\n",
              "      <td>13</td>\n",
              "      <td>Abruzzo</td>\n",
              "    </tr>\n",
              "    <tr>\n",
              "      <th>1</th>\n",
              "      <td>ABR</td>\n",
              "      <td>CHIETI</td>\n",
              "      <td>LANCIANO</td>\n",
              "      <td>PRESIDIO OSPEDALIERO RENZETTI</td>\n",
              "      <td>ITF</td>\n",
              "      <td>ITF1</td>\n",
              "      <td>13</td>\n",
              "      <td>Abruzzo</td>\n",
              "    </tr>\n",
              "    <tr>\n",
              "      <th>2</th>\n",
              "      <td>ABR</td>\n",
              "      <td>CHIETI</td>\n",
              "      <td>VASTO</td>\n",
              "      <td>PRESIDIO OSPEDALIERO SAN PIO</td>\n",
              "      <td>ITF</td>\n",
              "      <td>ITF1</td>\n",
              "      <td>13</td>\n",
              "      <td>Abruzzo</td>\n",
              "    </tr>\n",
              "    <tr>\n",
              "      <th>3</th>\n",
              "      <td>ABR</td>\n",
              "      <td>L'AQUILA</td>\n",
              "      <td>AVEZZANO</td>\n",
              "      <td>P.O. SS. FILIPPO E NICOLA</td>\n",
              "      <td>ITF</td>\n",
              "      <td>ITF1</td>\n",
              "      <td>13</td>\n",
              "      <td>Abruzzo</td>\n",
              "    </tr>\n",
              "    <tr>\n",
              "      <th>4</th>\n",
              "      <td>ABR</td>\n",
              "      <td>L'AQUILA</td>\n",
              "      <td>L'AQUILA</td>\n",
              "      <td>PRESIDIO OSPEDALIERO SAN SALVATORE</td>\n",
              "      <td>ITF</td>\n",
              "      <td>ITF1</td>\n",
              "      <td>13</td>\n",
              "      <td>Abruzzo</td>\n",
              "    </tr>\n",
              "    <tr>\n",
              "      <th>...</th>\n",
              "      <td>...</td>\n",
              "      <td>...</td>\n",
              "      <td>...</td>\n",
              "      <td>...</td>\n",
              "      <td>...</td>\n",
              "      <td>...</td>\n",
              "      <td>...</td>\n",
              "      <td>...</td>\n",
              "    </tr>\n",
              "    <tr>\n",
              "      <th>288</th>\n",
              "      <td>VEN</td>\n",
              "      <td>ROVIGO</td>\n",
              "      <td>ROVIGO</td>\n",
              "      <td>OSPEDALE \"SANTA MARIA DELLA MISERICORDIA\"</td>\n",
              "      <td>ITH</td>\n",
              "      <td>ITH3</td>\n",
              "      <td>5</td>\n",
              "      <td>Veneto</td>\n",
              "    </tr>\n",
              "    <tr>\n",
              "      <th>289</th>\n",
              "      <td>VEN</td>\n",
              "      <td>TREVISO</td>\n",
              "      <td>VITTORIO VENETO</td>\n",
              "      <td>OSPEDALE DI VITTORIO VENETO</td>\n",
              "      <td>ITH</td>\n",
              "      <td>ITH3</td>\n",
              "      <td>5</td>\n",
              "      <td>Veneto</td>\n",
              "    </tr>\n",
              "    <tr>\n",
              "      <th>290</th>\n",
              "      <td>VEN</td>\n",
              "      <td>VENEZIA</td>\n",
              "      <td>VENEZIA MESTRE</td>\n",
              "      <td>OSPEDALE DELL'ANGELO</td>\n",
              "      <td>ITH</td>\n",
              "      <td>ITH3</td>\n",
              "      <td>5</td>\n",
              "      <td>Veneto</td>\n",
              "    </tr>\n",
              "    <tr>\n",
              "      <th>291</th>\n",
              "      <td>VEN</td>\n",
              "      <td>VERONA</td>\n",
              "      <td>VERONA</td>\n",
              "      <td>AZIENDA OSPEDALIERA UNIVERSITARIA INTEGRATA DI...</td>\n",
              "      <td>ITH</td>\n",
              "      <td>ITH3</td>\n",
              "      <td>5</td>\n",
              "      <td>Veneto</td>\n",
              "    </tr>\n",
              "    <tr>\n",
              "      <th>292</th>\n",
              "      <td>VEN</td>\n",
              "      <td>VICENZA</td>\n",
              "      <td>VICENZA</td>\n",
              "      <td>OSPEDALE DI VICENZA</td>\n",
              "      <td>ITH</td>\n",
              "      <td>ITH3</td>\n",
              "      <td>5</td>\n",
              "      <td>Veneto</td>\n",
              "    </tr>\n",
              "  </tbody>\n",
              "</table>\n",
              "<p>293 rows × 8 columns</p>\n",
              "</div>"
            ],
            "text/plain": [
              "    area provincia  ... codice_regione_ISTAT nome_area\n",
              "0    ABR    CHIETI  ...                   13   Abruzzo\n",
              "1    ABR    CHIETI  ...                   13   Abruzzo\n",
              "2    ABR    CHIETI  ...                   13   Abruzzo\n",
              "3    ABR  L'AQUILA  ...                   13   Abruzzo\n",
              "4    ABR  L'AQUILA  ...                   13   Abruzzo\n",
              "..   ...       ...  ...                  ...       ...\n",
              "288  VEN    ROVIGO  ...                    5    Veneto\n",
              "289  VEN   TREVISO  ...                    5    Veneto\n",
              "290  VEN   VENEZIA  ...                    5    Veneto\n",
              "291  VEN    VERONA  ...                    5    Veneto\n",
              "292  VEN   VICENZA  ...                    5    Veneto\n",
              "\n",
              "[293 rows x 8 columns]"
            ]
          },
          "metadata": {},
          "execution_count": 97
        }
      ]
    },
    {
      "cell_type": "markdown",
      "metadata": {
        "id": "J19zXzaE4f5l"
      },
      "source": [
        "1. Eliminare tutte le colonne ad eccezione della provincia, del comune, del presidio ospedaliero e del\n",
        "nome_area"
      ]
    },
    {
      "cell_type": "code",
      "metadata": {
        "colab": {
          "base_uri": "https://localhost:8080/",
          "height": 424
        },
        "id": "4mPIT-W04lA2",
        "outputId": "b7f6f02a-4a1f-4d1a-8f63-123c3cd2868d"
      },
      "source": [
        "df.filter(['provincia','comune','presidio_ospedaliero','nome_area'])"
      ],
      "execution_count": null,
      "outputs": [
        {
          "output_type": "execute_result",
          "data": {
            "text/html": [
              "<div>\n",
              "<style scoped>\n",
              "    .dataframe tbody tr th:only-of-type {\n",
              "        vertical-align: middle;\n",
              "    }\n",
              "\n",
              "    .dataframe tbody tr th {\n",
              "        vertical-align: top;\n",
              "    }\n",
              "\n",
              "    .dataframe thead th {\n",
              "        text-align: right;\n",
              "    }\n",
              "</style>\n",
              "<table border=\"1\" class=\"dataframe\">\n",
              "  <thead>\n",
              "    <tr style=\"text-align: right;\">\n",
              "      <th></th>\n",
              "      <th>provincia</th>\n",
              "      <th>comune</th>\n",
              "      <th>presidio_ospedaliero</th>\n",
              "      <th>nome_area</th>\n",
              "    </tr>\n",
              "  </thead>\n",
              "  <tbody>\n",
              "    <tr>\n",
              "      <th>0</th>\n",
              "      <td>CHIETI</td>\n",
              "      <td>CHIETI</td>\n",
              "      <td>PRESIDIO OSPEDALIERO SS ANNUNZIATA</td>\n",
              "      <td>Abruzzo</td>\n",
              "    </tr>\n",
              "    <tr>\n",
              "      <th>1</th>\n",
              "      <td>CHIETI</td>\n",
              "      <td>LANCIANO</td>\n",
              "      <td>PRESIDIO OSPEDALIERO RENZETTI</td>\n",
              "      <td>Abruzzo</td>\n",
              "    </tr>\n",
              "    <tr>\n",
              "      <th>2</th>\n",
              "      <td>CHIETI</td>\n",
              "      <td>VASTO</td>\n",
              "      <td>PRESIDIO OSPEDALIERO SAN PIO</td>\n",
              "      <td>Abruzzo</td>\n",
              "    </tr>\n",
              "    <tr>\n",
              "      <th>3</th>\n",
              "      <td>L'AQUILA</td>\n",
              "      <td>AVEZZANO</td>\n",
              "      <td>P.O. SS. FILIPPO E NICOLA</td>\n",
              "      <td>Abruzzo</td>\n",
              "    </tr>\n",
              "    <tr>\n",
              "      <th>4</th>\n",
              "      <td>L'AQUILA</td>\n",
              "      <td>L'AQUILA</td>\n",
              "      <td>PRESIDIO OSPEDALIERO SAN SALVATORE</td>\n",
              "      <td>Abruzzo</td>\n",
              "    </tr>\n",
              "    <tr>\n",
              "      <th>...</th>\n",
              "      <td>...</td>\n",
              "      <td>...</td>\n",
              "      <td>...</td>\n",
              "      <td>...</td>\n",
              "    </tr>\n",
              "    <tr>\n",
              "      <th>288</th>\n",
              "      <td>ROVIGO</td>\n",
              "      <td>ROVIGO</td>\n",
              "      <td>OSPEDALE \"SANTA MARIA DELLA MISERICORDIA\"</td>\n",
              "      <td>Veneto</td>\n",
              "    </tr>\n",
              "    <tr>\n",
              "      <th>289</th>\n",
              "      <td>TREVISO</td>\n",
              "      <td>VITTORIO VENETO</td>\n",
              "      <td>OSPEDALE DI VITTORIO VENETO</td>\n",
              "      <td>Veneto</td>\n",
              "    </tr>\n",
              "    <tr>\n",
              "      <th>290</th>\n",
              "      <td>VENEZIA</td>\n",
              "      <td>VENEZIA MESTRE</td>\n",
              "      <td>OSPEDALE DELL'ANGELO</td>\n",
              "      <td>Veneto</td>\n",
              "    </tr>\n",
              "    <tr>\n",
              "      <th>291</th>\n",
              "      <td>VERONA</td>\n",
              "      <td>VERONA</td>\n",
              "      <td>AZIENDA OSPEDALIERA UNIVERSITARIA INTEGRATA DI...</td>\n",
              "      <td>Veneto</td>\n",
              "    </tr>\n",
              "    <tr>\n",
              "      <th>292</th>\n",
              "      <td>VICENZA</td>\n",
              "      <td>VICENZA</td>\n",
              "      <td>OSPEDALE DI VICENZA</td>\n",
              "      <td>Veneto</td>\n",
              "    </tr>\n",
              "  </tbody>\n",
              "</table>\n",
              "<p>293 rows × 4 columns</p>\n",
              "</div>"
            ],
            "text/plain": [
              "    provincia  ... nome_area\n",
              "0      CHIETI  ...   Abruzzo\n",
              "1      CHIETI  ...   Abruzzo\n",
              "2      CHIETI  ...   Abruzzo\n",
              "3    L'AQUILA  ...   Abruzzo\n",
              "4    L'AQUILA  ...   Abruzzo\n",
              "..        ...  ...       ...\n",
              "288    ROVIGO  ...    Veneto\n",
              "289   TREVISO  ...    Veneto\n",
              "290   VENEZIA  ...    Veneto\n",
              "291    VERONA  ...    Veneto\n",
              "292   VICENZA  ...    Veneto\n",
              "\n",
              "[293 rows x 4 columns]"
            ]
          },
          "metadata": {},
          "execution_count": 98
        }
      ]
    },
    {
      "cell_type": "markdown",
      "metadata": {
        "id": "IZIusclK4y0-"
      },
      "source": [
        "2. Eliminare i dati nulli"
      ]
    },
    {
      "cell_type": "code",
      "metadata": {
        "colab": {
          "base_uri": "https://localhost:8080/",
          "height": 424
        },
        "id": "N-b_IG_5416H",
        "outputId": "aa971bfa-f3c7-4590-b179-1e40b0eaa211"
      },
      "source": [
        "df.dropna(inplace = True)\n",
        "df"
      ],
      "execution_count": null,
      "outputs": [
        {
          "output_type": "execute_result",
          "data": {
            "text/html": [
              "<div>\n",
              "<style scoped>\n",
              "    .dataframe tbody tr th:only-of-type {\n",
              "        vertical-align: middle;\n",
              "    }\n",
              "\n",
              "    .dataframe tbody tr th {\n",
              "        vertical-align: top;\n",
              "    }\n",
              "\n",
              "    .dataframe thead th {\n",
              "        text-align: right;\n",
              "    }\n",
              "</style>\n",
              "<table border=\"1\" class=\"dataframe\">\n",
              "  <thead>\n",
              "    <tr style=\"text-align: right;\">\n",
              "      <th></th>\n",
              "      <th>area</th>\n",
              "      <th>provincia</th>\n",
              "      <th>comune</th>\n",
              "      <th>presidio_ospedaliero</th>\n",
              "      <th>codice_NUTS1</th>\n",
              "      <th>codice_NUTS2</th>\n",
              "      <th>codice_regione_ISTAT</th>\n",
              "      <th>nome_area</th>\n",
              "    </tr>\n",
              "  </thead>\n",
              "  <tbody>\n",
              "    <tr>\n",
              "      <th>0</th>\n",
              "      <td>ABR</td>\n",
              "      <td>CHIETI</td>\n",
              "      <td>CHIETI</td>\n",
              "      <td>PRESIDIO OSPEDALIERO SS ANNUNZIATA</td>\n",
              "      <td>ITF</td>\n",
              "      <td>ITF1</td>\n",
              "      <td>13</td>\n",
              "      <td>Abruzzo</td>\n",
              "    </tr>\n",
              "    <tr>\n",
              "      <th>1</th>\n",
              "      <td>ABR</td>\n",
              "      <td>CHIETI</td>\n",
              "      <td>LANCIANO</td>\n",
              "      <td>PRESIDIO OSPEDALIERO RENZETTI</td>\n",
              "      <td>ITF</td>\n",
              "      <td>ITF1</td>\n",
              "      <td>13</td>\n",
              "      <td>Abruzzo</td>\n",
              "    </tr>\n",
              "    <tr>\n",
              "      <th>2</th>\n",
              "      <td>ABR</td>\n",
              "      <td>CHIETI</td>\n",
              "      <td>VASTO</td>\n",
              "      <td>PRESIDIO OSPEDALIERO SAN PIO</td>\n",
              "      <td>ITF</td>\n",
              "      <td>ITF1</td>\n",
              "      <td>13</td>\n",
              "      <td>Abruzzo</td>\n",
              "    </tr>\n",
              "    <tr>\n",
              "      <th>3</th>\n",
              "      <td>ABR</td>\n",
              "      <td>L'AQUILA</td>\n",
              "      <td>AVEZZANO</td>\n",
              "      <td>P.O. SS. FILIPPO E NICOLA</td>\n",
              "      <td>ITF</td>\n",
              "      <td>ITF1</td>\n",
              "      <td>13</td>\n",
              "      <td>Abruzzo</td>\n",
              "    </tr>\n",
              "    <tr>\n",
              "      <th>4</th>\n",
              "      <td>ABR</td>\n",
              "      <td>L'AQUILA</td>\n",
              "      <td>L'AQUILA</td>\n",
              "      <td>PRESIDIO OSPEDALIERO SAN SALVATORE</td>\n",
              "      <td>ITF</td>\n",
              "      <td>ITF1</td>\n",
              "      <td>13</td>\n",
              "      <td>Abruzzo</td>\n",
              "    </tr>\n",
              "    <tr>\n",
              "      <th>...</th>\n",
              "      <td>...</td>\n",
              "      <td>...</td>\n",
              "      <td>...</td>\n",
              "      <td>...</td>\n",
              "      <td>...</td>\n",
              "      <td>...</td>\n",
              "      <td>...</td>\n",
              "      <td>...</td>\n",
              "    </tr>\n",
              "    <tr>\n",
              "      <th>288</th>\n",
              "      <td>VEN</td>\n",
              "      <td>ROVIGO</td>\n",
              "      <td>ROVIGO</td>\n",
              "      <td>OSPEDALE \"SANTA MARIA DELLA MISERICORDIA\"</td>\n",
              "      <td>ITH</td>\n",
              "      <td>ITH3</td>\n",
              "      <td>5</td>\n",
              "      <td>Veneto</td>\n",
              "    </tr>\n",
              "    <tr>\n",
              "      <th>289</th>\n",
              "      <td>VEN</td>\n",
              "      <td>TREVISO</td>\n",
              "      <td>VITTORIO VENETO</td>\n",
              "      <td>OSPEDALE DI VITTORIO VENETO</td>\n",
              "      <td>ITH</td>\n",
              "      <td>ITH3</td>\n",
              "      <td>5</td>\n",
              "      <td>Veneto</td>\n",
              "    </tr>\n",
              "    <tr>\n",
              "      <th>290</th>\n",
              "      <td>VEN</td>\n",
              "      <td>VENEZIA</td>\n",
              "      <td>VENEZIA MESTRE</td>\n",
              "      <td>OSPEDALE DELL'ANGELO</td>\n",
              "      <td>ITH</td>\n",
              "      <td>ITH3</td>\n",
              "      <td>5</td>\n",
              "      <td>Veneto</td>\n",
              "    </tr>\n",
              "    <tr>\n",
              "      <th>291</th>\n",
              "      <td>VEN</td>\n",
              "      <td>VERONA</td>\n",
              "      <td>VERONA</td>\n",
              "      <td>AZIENDA OSPEDALIERA UNIVERSITARIA INTEGRATA DI...</td>\n",
              "      <td>ITH</td>\n",
              "      <td>ITH3</td>\n",
              "      <td>5</td>\n",
              "      <td>Veneto</td>\n",
              "    </tr>\n",
              "    <tr>\n",
              "      <th>292</th>\n",
              "      <td>VEN</td>\n",
              "      <td>VICENZA</td>\n",
              "      <td>VICENZA</td>\n",
              "      <td>OSPEDALE DI VICENZA</td>\n",
              "      <td>ITH</td>\n",
              "      <td>ITH3</td>\n",
              "      <td>5</td>\n",
              "      <td>Veneto</td>\n",
              "    </tr>\n",
              "  </tbody>\n",
              "</table>\n",
              "<p>290 rows × 8 columns</p>\n",
              "</div>"
            ],
            "text/plain": [
              "    area provincia  ... codice_regione_ISTAT nome_area\n",
              "0    ABR    CHIETI  ...                   13   Abruzzo\n",
              "1    ABR    CHIETI  ...                   13   Abruzzo\n",
              "2    ABR    CHIETI  ...                   13   Abruzzo\n",
              "3    ABR  L'AQUILA  ...                   13   Abruzzo\n",
              "4    ABR  L'AQUILA  ...                   13   Abruzzo\n",
              "..   ...       ...  ...                  ...       ...\n",
              "288  VEN    ROVIGO  ...                    5    Veneto\n",
              "289  VEN   TREVISO  ...                    5    Veneto\n",
              "290  VEN   VENEZIA  ...                    5    Veneto\n",
              "291  VEN    VERONA  ...                    5    Veneto\n",
              "292  VEN   VICENZA  ...                    5    Veneto\n",
              "\n",
              "[290 rows x 8 columns]"
            ]
          },
          "metadata": {},
          "execution_count": 99
        }
      ]
    },
    {
      "cell_type": "markdown",
      "metadata": {
        "id": "slrc3RSv4-Kf"
      },
      "source": [
        "3. Visualizzare i punti vaccinali di un comune inserito dall’utente. Controllare il dato inserito: se il comune\n",
        "non esiste dare un opportuno messaggio, altrimenti visualizzare i nomi dei punti vaccinali"
      ]
    },
    {
      "cell_type": "code",
      "metadata": {
        "id": "Q0mmryuH5A01"
      },
      "source": [
        ""
      ],
      "execution_count": null,
      "outputs": []
    },
    {
      "cell_type": "markdown",
      "metadata": {
        "id": "-TUdGuwE5DJN"
      },
      "source": [
        "4. Visualizzare il numero di punti vaccinali di ogni regione. Visualizzare il nome della regione e il numero di\n",
        "punti vaccinali. Ordinare in ordine decrescente sul numero di punti vaccinali (dalla regione che ha più\n",
        "punti vaccinali a quella che ne ha di meno)"
      ]
    },
    {
      "cell_type": "code",
      "metadata": {
        "colab": {
          "base_uri": "https://localhost:8080/"
        },
        "id": "Tn6hAnMd5DoO",
        "outputId": "e1f6ce44-5af1-44d1-e39c-232a6b7b37af"
      },
      "source": [
        "df2 = df.groupby('nome_area')['presidio_ospedaliero'].count().sort_values(ascending = False)\n",
        "df2"
      ],
      "execution_count": null,
      "outputs": [
        {
          "output_type": "execute_result",
          "data": {
            "text/plain": [
              "nome_area\n",
              "Lombardia                             65\n",
              "Sicilia                               33\n",
              "Piemonte                              28\n",
              "Campania                              27\n",
              "Lazio                                 20\n",
              "Liguria                               14\n",
              "Emilia-Romagna                        13\n",
              "Toscana                               12\n",
              "Sardegna                              12\n",
              "Puglia                                11\n",
              "Veneto                                 7\n",
              "Abruzzo                                7\n",
              "Marche                                 7\n",
              "Provincia Autonoma Bolzano / Bozen     7\n",
              "Calabria                               6\n",
              "Friuli-Venezia Giulia                  5\n",
              "Basilicata                             5\n",
              "Umbria                                 4\n",
              "Provincia Autonoma Trento              3\n",
              "Valle d'Aosta / Vallée d'Aoste         2\n",
              "Molise                                 2\n",
              "Name: presidio_ospedaliero, dtype: int64"
            ]
          },
          "metadata": {},
          "execution_count": 100
        }
      ]
    },
    {
      "cell_type": "markdown",
      "metadata": {
        "id": "zSA4mrls6Ov2"
      },
      "source": [
        "5. Visualizzare il grafico a barre orizzontali relativo all’esercizio 4. Inserire il titolo, i nomi degli assi e la\n",
        "legenda. Fare in modo che i colori delle barre siano gradazioni dello stesso colore."
      ]
    },
    {
      "cell_type": "code",
      "metadata": {
        "id": "Xy9_zgk78X5_"
      },
      "source": [
        "import seaborn as sns"
      ],
      "execution_count": null,
      "outputs": []
    },
    {
      "cell_type": "code",
      "metadata": {
        "colab": {
          "base_uri": "https://localhost:8080/",
          "height": 265
        },
        "id": "EJ-e0ZWR6Ttu",
        "outputId": "834e776a-fae6-438c-ee23-a67fed48790a"
      },
      "source": [
        "\n",
        "osp = list(df2.index)\n",
        "regione = list(df2.values)\n",
        "fig = plt.figure()\n",
        "ax = plt.axes()\n",
        "ax.barh(osp, regione,label = 'numero punti vaccinali per regione')\n",
        "ax.legend(loc=0)\n",
        "plt.show()"
      ],
      "execution_count": null,
      "outputs": [
        {
          "output_type": "display_data",
          "data": {
            "image/png": "[encoded data removed]",
            "text/plain": [
              "<Figure size 432x288 with 1 Axes>"
            ]
          },
          "metadata": {
            "needs_background": "light"
          }
        }
      ]
    },
    {
      "cell_type": "markdown",
      "metadata": {
        "id": "0LsLltyW7lTw"
      },
      "source": [
        "6. Visualizzare il numero di province per ogni regione"
      ]
    },
    {
      "cell_type": "code",
      "metadata": {
        "colab": {
          "base_uri": "https://localhost:8080/",
          "height": 739
        },
        "id": "NZwKEXMO7nb3",
        "outputId": "55d0d73d-9214-4965-f6bd-2cc8244bc1ec"
      },
      "source": [
        "df2 = df.groupby([\"nome_area\", \"provincia\"]).count()\n",
        "df2.reset_index(\"provincia\", inplace = True)\n",
        "df2.reset_index(\"nome_area\", inplace = True)\n",
        "df3 = df2.groupby(\"nome_area\")[[\"provincia\"]].count()\n",
        "df3"
      ],
      "execution_count": null,
      "outputs": [
        {
          "output_type": "execute_result",
          "data": {
            "text/html": [
              "<div>\n",
              "<style scoped>\n",
              "    .dataframe tbody tr th:only-of-type {\n",
              "        vertical-align: middle;\n",
              "    }\n",
              "\n",
              "    .dataframe tbody tr th {\n",
              "        vertical-align: top;\n",
              "    }\n",
              "\n",
              "    .dataframe thead th {\n",
              "        text-align: right;\n",
              "    }\n",
              "</style>\n",
              "<table border=\"1\" class=\"dataframe\">\n",
              "  <thead>\n",
              "    <tr style=\"text-align: right;\">\n",
              "      <th></th>\n",
              "      <th>provincia</th>\n",
              "    </tr>\n",
              "    <tr>\n",
              "      <th>nome_area</th>\n",
              "      <th></th>\n",
              "    </tr>\n",
              "  </thead>\n",
              "  <tbody>\n",
              "    <tr>\n",
              "      <th>Abruzzo</th>\n",
              "      <td>4</td>\n",
              "    </tr>\n",
              "    <tr>\n",
              "      <th>Basilicata</th>\n",
              "      <td>2</td>\n",
              "    </tr>\n",
              "    <tr>\n",
              "      <th>Calabria</th>\n",
              "      <td>5</td>\n",
              "    </tr>\n",
              "    <tr>\n",
              "      <th>Campania</th>\n",
              "      <td>5</td>\n",
              "    </tr>\n",
              "    <tr>\n",
              "      <th>Emilia-Romagna</th>\n",
              "      <td>9</td>\n",
              "    </tr>\n",
              "    <tr>\n",
              "      <th>Friuli-Venezia Giulia</th>\n",
              "      <td>4</td>\n",
              "    </tr>\n",
              "    <tr>\n",
              "      <th>Lazio</th>\n",
              "      <td>6</td>\n",
              "    </tr>\n",
              "    <tr>\n",
              "      <th>Liguria</th>\n",
              "      <td>5</td>\n",
              "    </tr>\n",
              "    <tr>\n",
              "      <th>Lombardia</th>\n",
              "      <td>12</td>\n",
              "    </tr>\n",
              "    <tr>\n",
              "      <th>Marche</th>\n",
              "      <td>5</td>\n",
              "    </tr>\n",
              "    <tr>\n",
              "      <th>Molise</th>\n",
              "      <td>1</td>\n",
              "    </tr>\n",
              "    <tr>\n",
              "      <th>Piemonte</th>\n",
              "      <td>8</td>\n",
              "    </tr>\n",
              "    <tr>\n",
              "      <th>Provincia Autonoma Bolzano / Bozen</th>\n",
              "      <td>1</td>\n",
              "    </tr>\n",
              "    <tr>\n",
              "      <th>Provincia Autonoma Trento</th>\n",
              "      <td>1</td>\n",
              "    </tr>\n",
              "    <tr>\n",
              "      <th>Puglia</th>\n",
              "      <td>6</td>\n",
              "    </tr>\n",
              "    <tr>\n",
              "      <th>Sardegna</th>\n",
              "      <td>8</td>\n",
              "    </tr>\n",
              "    <tr>\n",
              "      <th>Sicilia</th>\n",
              "      <td>9</td>\n",
              "    </tr>\n",
              "    <tr>\n",
              "      <th>Toscana</th>\n",
              "      <td>10</td>\n",
              "    </tr>\n",
              "    <tr>\n",
              "      <th>Umbria</th>\n",
              "      <td>2</td>\n",
              "    </tr>\n",
              "    <tr>\n",
              "      <th>Valle d'Aosta / Vallée d'Aoste</th>\n",
              "      <td>1</td>\n",
              "    </tr>\n",
              "    <tr>\n",
              "      <th>Veneto</th>\n",
              "      <td>7</td>\n",
              "    </tr>\n",
              "  </tbody>\n",
              "</table>\n",
              "</div>"
            ],
            "text/plain": [
              "                                    provincia\n",
              "nome_area                                    \n",
              "Abruzzo                                     4\n",
              "Basilicata                                  2\n",
              "Calabria                                    5\n",
              "Campania                                    5\n",
              "Emilia-Romagna                              9\n",
              "Friuli-Venezia Giulia                       4\n",
              "Lazio                                       6\n",
              "Liguria                                     5\n",
              "Lombardia                                  12\n",
              "Marche                                      5\n",
              "Molise                                      1\n",
              "Piemonte                                    8\n",
              "Provincia Autonoma Bolzano / Bozen          1\n",
              "Provincia Autonoma Trento                   1\n",
              "Puglia                                      6\n",
              "Sardegna                                    8\n",
              "Sicilia                                     9\n",
              "Toscana                                    10\n",
              "Umbria                                      2\n",
              "Valle d'Aosta / Vallée d'Aoste              1\n",
              "Veneto                                      7"
            ]
          },
          "metadata": {},
          "execution_count": 103
        }
      ]
    },
    {
      "cell_type": "markdown",
      "metadata": {
        "id": "HEYfI4ulJ49I"
      },
      "source": [
        "7.Visualizzare il grafico a torta dei dati dell’esercizio precedente. Inserire il titolo e la legenda"
      ]
    },
    {
      "cell_type": "code",
      "metadata": {
        "colab": {
          "base_uri": "https://localhost:8080/",
          "height": 555
        },
        "id": "hA-xlQzUHBtw",
        "outputId": "fe206638-08fc-4568-8fcc-c9fddacdef4e"
      },
      "source": [
        "fig = plt.figure(figsize=[8,8])\n",
        "ax = plt.axes()\n",
        "\n",
        "ax.pie(df3.values,labels = df3.index, autopct=\"%1.2f%%\") #grafico a torta\n",
        "\n",
        "df3['provincia'].values"
      ],
      "execution_count": null,
      "outputs": [
        {
          "output_type": "stream",
          "name": "stderr",
          "text": [
            "/usr/local/lib/python3.7/dist-packages/ipykernel_launcher.py:4: MatplotlibDeprecationWarning: Non-1D inputs to pie() are currently squeeze()d, but this behavior is deprecated since 3.1 and will be removed in 3.3; pass a 1D array instead.\n",
            "  after removing the cwd from sys.path.\n"
          ]
        },
        {
          "output_type": "execute_result",
          "data": {
            "text/plain": [
              "array([ 4,  2,  5,  5,  9,  4,  6,  5, 12,  5,  1,  8,  1,  1,  6,  8,  9,\n",
              "       10,  2,  1,  7])"
            ]
          },
          "metadata": {},
          "execution_count": 104
        },
        {
          "output_type": "display_data",
          "data": {
            "image/png": "[encoded data removed]",
            "text/plain": [
              "<Figure size 576x576 with 1 Axes>"
            ]
          },
          "metadata": {}
        }
      ]
    },
    {
      "cell_type": "markdown",
      "metadata": {
        "id": "rPgJKqz4MKRP"
      },
      "source": [
        "8.Visualizzare un nuovo grafico con i grafici precedenti. Il nuovo grafico deve avere due righe e tre\n",
        "colonne e deve contenere nella prima riga tre volte il grafico a barre e nella seconda riga tre volte il\n",
        "grafico a torta"
      ]
    },
    {
      "cell_type": "code",
      "metadata": {
        "id": "j2sTVMy7MRbH"
      },
      "source": [
        ""
      ],
      "execution_count": null,
      "outputs": []
    },
    {
      "cell_type": "markdown",
      "metadata": {
        "id": "bud3kwd-Mfrd"
      },
      "source": [
        ""
      ]
    },
    {
      "cell_type": "code",
      "metadata": {
        "id": "wsOvV_ZYMgGe",
        "colab": {
          "base_uri": "https://localhost:8080/",
          "height": 34
        },
        "outputId": "93a57359-2ba0-448e-cd18-653743294102"
      },
      "source": [
        "plt.savefig(\"grafico.png\")"
      ],
      "execution_count": null,
      "outputs": [
        {
          "output_type": "display_data",
          "data": {
            "text/plain": [
              "<Figure size 432x288 with 0 Axes>"
            ]
          },
          "metadata": {}
        }
      ]
    }
  ]
}